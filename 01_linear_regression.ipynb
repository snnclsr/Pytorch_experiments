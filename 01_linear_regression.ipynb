{
  "nbformat": 4,
  "nbformat_minor": 0,
  "metadata": {
    "colab": {
      "name": "01_linear_regression.ipynb",
      "version": "0.3.2",
      "provenance": [],
      "collapsed_sections": []
    },
    "kernelspec": {
      "name": "python3",
      "display_name": "Python 3"
    }
  },
  "cells": [
    {
      "metadata": {
        "id": "GZ_8eJktoaPS",
        "colab_type": "code",
        "colab": {}
      },
      "cell_type": "code",
      "source": [
        "import torch\n",
        "import torch.nn as nn\n",
        "import torch.optim as optim\n",
        "from torch.autograd import Variable\n",
        "\n",
        "import numpy as np\n",
        "import matplotlib.pyplot as plt\n",
        "\n",
        "%matplotlib inline"
      ],
      "execution_count": 0,
      "outputs": []
    },
    {
      "metadata": {
        "id": "qNy9SLHT1ThX",
        "colab_type": "code",
        "colab": {}
      },
      "cell_type": "code",
      "source": [
        "# Define the linear regression model.\n",
        "# X @ W + b\n",
        "class LinearRegression(nn.Module):\n",
        "  def __init__(self):\n",
        "    super(LinearRegression, self).__init__()\n",
        "    self.linear = nn.Linear(1, 1, bias=True)\n",
        "    \n",
        "  def forward(self, X):\n",
        "    return self.linear(X)"
      ],
      "execution_count": 0,
      "outputs": []
    },
    {
      "metadata": {
        "id": "fbewbPjK2KA4",
        "colab_type": "code",
        "colab": {
          "base_uri": "https://localhost:8080/",
          "height": 265
        },
        "outputId": "d0c75c47-cc28-4ea6-d1e2-ce1e52cd74c3"
      },
      "cell_type": "code",
      "source": [
        "# Generate an input data for the model.\n",
        "X = np.array([[np.random.randn() ]for i in range(50)], dtype=np.float32)\n",
        "y = np.array([[2 * X[i] - 5 + np.random.randn()] for i in range(len(X))], dtype=np.float32)\n",
        "\n",
        "plt.scatter(X, y);"
      ],
      "execution_count": 3,
      "outputs": [
        {
          "output_type": "display_data",
          "data": {
            "image/png": "[encoded data removed]",
            "text/plain": [
              "<matplotlib.figure.Figure at 0x7fdd56d925c0>"
            ]
          },
          "metadata": {
            "tags": []
          }
        }
      ]
    },
    {
      "metadata": {
        "id": "R0Re3ev5NX9j",
        "colab_type": "code",
        "colab": {
          "base_uri": "https://localhost:8080/",
          "height": 68
        },
        "outputId": "124f78f2-79c0-40bf-a36a-23c60b35b152"
      },
      "cell_type": "code",
      "source": [
        "lr = LinearRegression()\n",
        "print(lr)\n",
        "\n",
        "# Cast numpy arrays to Tensor.\n",
        "X = torch.from_numpy(X)\n",
        "y = torch.from_numpy(y)\n",
        "\n",
        "# Define loss function and optimizer.\n",
        "criterion = nn.MSELoss()\n",
        "optimizer = optim.SGD(lr.parameters(), lr=0.001)\n",
        "\n",
        "inputs = Variable(X)\n",
        "target = Variable(y)"
      ],
      "execution_count": 4,
      "outputs": [
        {
          "output_type": "stream",
          "text": [
            "LinearRegression(\n",
            "  (linear): Linear(in_features=1, out_features=1, bias=True)\n",
            ")\n"
          ],
          "name": "stdout"
        }
      ]
    },
    {
      "metadata": {
        "id": "Z7dPmXQy3eTj",
        "colab_type": "code",
        "colab": {
          "base_uri": "https://localhost:8080/",
          "height": 187
        },
        "outputId": "96945f3a-8401-4c69-b275-5f11e70a550f"
      },
      "cell_type": "code",
      "source": [
        "n_epochs = 10000\n",
        "\n",
        "loss_history = []\n",
        "\n",
        "for i in range(n_epochs):  \n",
        "  preds = lr(inputs)\n",
        "  loss = criterion(preds, target[:, 0])\n",
        "  loss_history.append(loss.item())\n",
        "  \n",
        "  optimizer.zero_grad()\n",
        "  loss.backward()\n",
        "  optimizer.step()\n",
        "  \n",
        "  \n",
        "  if i % 1000 == 0:\n",
        "    print('Epoch : {} -- Loss : {}'.format(i, loss))"
      ],
      "execution_count": 5,
      "outputs": [
        {
          "output_type": "stream",
          "text": [
            "Epoch : 0 -- Loss : 47.35481262207031\n",
            "Epoch : 1000 -- Loss : 1.553391695022583\n",
            "Epoch : 2000 -- Loss : 0.9845996499061584\n",
            "Epoch : 3000 -- Loss : 0.971330463886261\n",
            "Epoch : 4000 -- Loss : 0.9709705710411072\n",
            "Epoch : 5000 -- Loss : 0.9709606170654297\n",
            "Epoch : 6000 -- Loss : 0.9709604382514954\n",
            "Epoch : 7000 -- Loss : 0.9709604382514954\n",
            "Epoch : 8000 -- Loss : 0.9709604382514954\n",
            "Epoch : 9000 -- Loss : 0.9709604382514954\n"
          ],
          "name": "stdout"
        }
      ]
    },
    {
      "metadata": {
        "id": "fNuWN1AVJqP_",
        "colab_type": "code",
        "colab": {
          "base_uri": "https://localhost:8080/",
          "height": 265
        },
        "outputId": "2bd6ccb1-0312-4544-e3da-7a3d4ed5e103"
      },
      "cell_type": "code",
      "source": [
        "# We make prediction on the input data and then plot the\n",
        "# fitted line.\n",
        "\n",
        "preds = lr(inputs)\n",
        "# Currently preds variable's grad is activated. We should detach it.\n",
        "preds = preds.detach().numpy()\n",
        "plt.scatter(X.numpy(), y.numpy())\n",
        "plt.plot(X.numpy(), preds)\n",
        "plt.show()"
      ],
      "execution_count": 6,
      "outputs": [
        {
          "output_type": "display_data",
          "data": {
            "image/png": "[encoded data removed]",
            "text/plain": [
              "<matplotlib.figure.Figure at 0x7fdd0d7dc208>"
            ]
          },
          "metadata": {
            "tags": []
          }
        }
      ]
    },
    {
      "metadata": {
        "id": "nGSarC32Nh83",
        "colab_type": "code",
        "colab": {
          "base_uri": "https://localhost:8080/",
          "height": 279
        },
        "outputId": "c8d7bd40-e9e1-42b9-cf82-485414f7bc12"
      },
      "cell_type": "code",
      "source": [
        "# Plotting the loss history.\n",
        "plt.plot(np.arange(n_epochs), loss_history)\n",
        "plt.xlabel('# of epochs')\n",
        "plt.ylabel('Loss')\n",
        "plt.show()"
      ],
      "execution_count": 7,
      "outputs": [
        {
          "output_type": "display_data",
          "data": {
            "image/png": "[encoded data removed]",
            "text/plain": [
              "<matplotlib.figure.Figure at 0x7fdd0a737908>"
            ]
          },
          "metadata": {
            "tags": []
          }
        }
      ]
    },
    {
      "metadata": {
        "id": "C0lT9JPCN8NB",
        "colab_type": "code",
        "colab": {}
      },
      "cell_type": "code",
      "source": [
        ""
      ],
      "execution_count": 0,
      "outputs": []
    }
  ]
}