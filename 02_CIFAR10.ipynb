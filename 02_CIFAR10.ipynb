{
  "nbformat": 4,
  "nbformat_minor": 0,
  "metadata": {
    "colab": {
      "name": "cifar10.ipynb",
      "version": "0.3.2",
      "provenance": [],
      "collapsed_sections": []
    },
    "kernelspec": {
      "name": "python3",
      "display_name": "Python 3"
    },
    "accelerator": "GPU"
  },
  "cells": [
    {
      "metadata": {
        "id": "oFfkBTgKoX_q",
        "colab_type": "text"
      },
      "cell_type": "markdown",
      "source": [
        "**This notebook is designed for my understanding of the Pytorch. So the aim is break/improve things.** \n",
        "\n",
        "CIFAR10 with VGG like architecture, trained 100 epochs. 72.6% accuracy on test set. Obviously, there is way more than that. Shrinks the input image to 1x1 dimension at the end of the Conv Layer(right before the Linear layer)."
      ]
    },
    {
      "metadata": {
        "id": "RW8zMpOfFbLp",
        "colab_type": "code",
        "colab": {}
      },
      "cell_type": "code",
      "source": [
        "import torch\n",
        "import torch.nn as nn\n",
        "import torch.optim as optim\n",
        "import torch.nn.functional as F\n",
        "\n",
        "from torchvision import datasets, transforms\n",
        "\n",
        "import numpy as np\n",
        "import matplotlib.pyplot as plt\n",
        "\n",
        "from collections import OrderedDict"
      ],
      "execution_count": 0,
      "outputs": []
    },
    {
      "metadata": {
        "id": "ycxlA4ECG1Zs",
        "colab_type": "code",
        "colab": {
          "base_uri": "https://localhost:8080/",
          "height": 51
        },
        "outputId": "1900fe66-bc4c-47f8-f07e-85e3219b5852"
      },
      "cell_type": "code",
      "source": [
        "train_transform = transforms.Compose([\n",
        "    transforms.RandomCrop(32, padding=4),\n",
        "    transforms.RandomHorizontalFlip(),\n",
        "    transforms.ToTensor(),\n",
        "    transforms.Normalize((0.491, 0.482, 0.446), (0.202, 0.199, 0.201))\n",
        "])\n",
        "\n",
        "test_transform = transforms.Compose([\n",
        "    transforms.ToTensor(),\n",
        "    transforms.Normalize((0.491, 0.482, 0.446), (0.202, 0.199, 0.201))\n",
        "])\n",
        "\n",
        "train_data = datasets.CIFAR10('data', download=True, train=True, transform=train_transform)\n",
        "test_data = datasets.CIFAR10('data', download=True, train=False, transform=test_transform)\n",
        "\n",
        "valid_size = 0.2\n",
        "num_train = len(train_data)\n",
        "indices = list(range(num_train))\n",
        "np.random.shuffle(indices)\n",
        "split = int(np.floor(valid_size * num_train))\n",
        "train_idx, valid_idx = indices[0:split], indices[split:]\n",
        "\n",
        "train_sampler = torch.utils.data.SubsetRandomSampler(train_idx)\n",
        "valid_sampler = torch.utils.data.SubsetRandomSampler(valid_idx)\n",
        "\n",
        "train_loader = torch.utils.data.DataLoader(train_data, sampler=train_sampler, batch_size=64)\n",
        "valid_loader = torch.utils.data.DataLoader(train_data, sampler=valid_sampler, batch_size=64)\n",
        "test_loader = torch.utils.data.DataLoader(test_data, batch_size=64)"
      ],
      "execution_count": 2,
      "outputs": [
        {
          "output_type": "stream",
          "text": [
            "Files already downloaded and verified\n",
            "Files already downloaded and verified\n"
          ],
          "name": "stdout"
        }
      ]
    },
    {
      "metadata": {
        "id": "OaRIrqbQN5t1",
        "colab_type": "code",
        "colab": {}
      },
      "cell_type": "code",
      "source": [
        "LABEL_DICT = {0: \"airplane\", 1: \"automobile\", 2: \"bird\", 3: \"cat\", 4: \"deer\", 5: \"dog\",\n",
        "              6: \"frog\", 7: \"horse\", 8: \"ship\", 9: \"track\"}\n",
        "\n",
        "dataiter = iter(train_loader)\n",
        "images, labels = next(dataiter)\n",
        "images = images.numpy()\n",
        "\n",
        "fig = plt.figure(figsize=(8, 4))\n",
        "for i in range(30):\n",
        "  ax = fig.add_subplot(3, 30/3, i+1, xticks=[], yticks=[])\n",
        "  img = images[i].squeeze()\n",
        "  img = np.transpose(img, [1, 2, 0]) * np.array([0.202, 0.199, 0.201]) + np.array([0.491, 0.482, 0.446])\n",
        "  img = np.clip(img, 0, 1)\n",
        "  ax.imshow(img)\n",
        "  ax.set_title(LABEL_DICT[labels[i].item()])"
      ],
      "execution_count": 0,
      "outputs": []
    },
    {
      "metadata": {
        "id": "NFJfb4L9Ol52",
        "colab_type": "code",
        "colab": {}
      },
      "cell_type": "code",
      "source": [
        "# ((n - f + 2p) / s ) + 1"
      ],
      "execution_count": 0,
      "outputs": []
    },
    {
      "metadata": {
        "id": "b9CkfPzEI3ZQ",
        "colab_type": "code",
        "colab": {}
      },
      "cell_type": "code",
      "source": [
        "# https://gist.github.com/baraldilorenzo/07d7802847aaad0a35d3\n",
        "\n",
        "class VGG(nn.Module):\n",
        "  def __init__(self):\n",
        "    super(VGG, self).__init__()\n",
        "    \n",
        "    filters = [3, 32, 32, 64, 64, 128, 128]\n",
        "    kwargs = {\"kernel_size\": 3, \"stride\": 1, \"padding\": 1}\n",
        "    \n",
        "    self.features = nn.Sequential(OrderedDict([\n",
        "        ('conv1', nn.Conv2d(filters[0], filters[1], **kwargs)), \n",
        "        ('bn1', nn.BatchNorm2d(filters[1])),\n",
        "        ('relu1', nn.ReLU(inplace=True)),\n",
        "        ('mpool1', nn.MaxPool2d(2)),\n",
        "\n",
        "        ('conv2', nn.Conv2d(filters[1], filters[2], **kwargs)), \n",
        "        ('bn2', nn.BatchNorm2d(filters[2])),\n",
        "        ('relu2', nn.ReLU(inplace=True)),\n",
        "        ('mpool2', nn.MaxPool2d(2)),\n",
        "\n",
        "        ('conv3', nn.Conv2d(filters[2], filters[3], **kwargs)), \n",
        "        ('bn3', nn.BatchNorm2d(filters[3])),\n",
        "        ('relu3', nn.ReLU(inplace=True)),\n",
        "        ('mpool3', nn.MaxPool2d(2)),\n",
        "\n",
        "        ('conv4', nn.Conv2d(filters[3], filters[4], **kwargs)), \n",
        "        ('bn4', nn.BatchNorm2d(filters[4])),\n",
        "        ('relu4', nn.ReLU(inplace=True)),\n",
        "        ('mpool4', nn.MaxPool2d(2)),\n",
        "\n",
        "        ('conv5', nn.Conv2d(filters[4], filters[5], **kwargs)), \n",
        "        ('bn5', nn.BatchNorm2d(filters[5])),\n",
        "        ('relu5', nn.ReLU(inplace=True)),\n",
        "        ('mpool5', nn.MaxPool2d(2))\n",
        "    ]))\n",
        "    self.classifier = nn.Sequential(OrderedDict([\n",
        "        ('fc1', nn.Linear(filters[5], filters[6])), # Actually there is filters[5] * 1, according to calculation above.\n",
        "        ('relu1', nn.ReLU(inplace=True)),\n",
        "        ('drop1', nn.Dropout(0.5)),\n",
        "        ('out', nn.Linear(filters[6], 10))\n",
        "        \n",
        "    ]))\n",
        "    \n",
        "  def forward(self, x):\n",
        "      x = self.features(x)\n",
        "      x = x.view(x.size(0), -1)\n",
        "      out = self.classifier(x)\n",
        "      return out"
      ],
      "execution_count": 0,
      "outputs": []
    },
    {
      "metadata": {
        "id": "FHnUgKj1gEXb",
        "colab_type": "code",
        "colab": {
          "base_uri": "https://localhost:8080/",
          "height": 527
        },
        "outputId": "855dd46e-34be-45d7-c287-580686622d9a"
      },
      "cell_type": "code",
      "source": [
        "model = VGG()\n",
        "print(model)"
      ],
      "execution_count": 11,
      "outputs": [
        {
          "output_type": "stream",
          "text": [
            "VGG(\n",
            "  (features): Sequential(\n",
            "    (conv1): Conv2d(3, 32, kernel_size=(3, 3), stride=(1, 1), padding=(1, 1))\n",
            "    (bn1): BatchNorm2d(32, eps=1e-05, momentum=0.1, affine=True, track_running_stats=True)\n",
            "    (relu1): ReLU(inplace)\n",
            "    (mpool1): MaxPool2d(kernel_size=2, stride=2, padding=0, dilation=1, ceil_mode=False)\n",
            "    (conv2): Conv2d(32, 32, kernel_size=(3, 3), stride=(1, 1), padding=(1, 1))\n",
            "    (bn2): BatchNorm2d(32, eps=1e-05, momentum=0.1, affine=True, track_running_stats=True)\n",
            "    (relu2): ReLU(inplace)\n",
            "    (mpool2): MaxPool2d(kernel_size=2, stride=2, padding=0, dilation=1, ceil_mode=False)\n",
            "    (conv3): Conv2d(32, 64, kernel_size=(3, 3), stride=(1, 1), padding=(1, 1))\n",
            "    (bn3): BatchNorm2d(64, eps=1e-05, momentum=0.1, affine=True, track_running_stats=True)\n",
            "    (relu3): ReLU(inplace)\n",
            "    (mpool3): MaxPool2d(kernel_size=2, stride=2, padding=0, dilation=1, ceil_mode=False)\n",
            "    (conv4): Conv2d(64, 64, kernel_size=(3, 3), stride=(1, 1), padding=(1, 1))\n",
            "    (bn4): BatchNorm2d(64, eps=1e-05, momentum=0.1, affine=True, track_running_stats=True)\n",
            "    (relu4): ReLU(inplace)\n",
            "    (mpool4): MaxPool2d(kernel_size=2, stride=2, padding=0, dilation=1, ceil_mode=False)\n",
            "    (conv5): Conv2d(64, 128, kernel_size=(3, 3), stride=(1, 1), padding=(1, 1))\n",
            "    (bn5): BatchNorm2d(128, eps=1e-05, momentum=0.1, affine=True, track_running_stats=True)\n",
            "    (relu5): ReLU(inplace)\n",
            "    (mpool5): MaxPool2d(kernel_size=2, stride=2, padding=0, dilation=1, ceil_mode=False)\n",
            "  )\n",
            "  (classifier): Sequential(\n",
            "    (fc1): Linear(in_features=128, out_features=128, bias=True)\n",
            "    (relu1): ReLU(inplace)\n",
            "    (drop1): Dropout(p=0.5)\n",
            "    (out): Linear(in_features=128, out_features=10, bias=True)\n",
            "  )\n",
            ")\n"
          ],
          "name": "stdout"
        }
      ]
    },
    {
      "metadata": {
        "id": "pM0Nn_b-YiPk",
        "colab_type": "code",
        "colab": {
          "base_uri": "https://localhost:8080/",
          "height": 34
        },
        "outputId": "45c1edb7-74f2-47dd-d334-c5b39056d3b9"
      },
      "cell_type": "code",
      "source": [
        "# https://stackoverflow.com/questions/49201236/check-the-total-number-of-parameters-in-a-pytorch-model\n",
        "total_params = sum(p.numel() for p in model.parameters())\n",
        "total_params"
      ],
      "execution_count": 12,
      "outputs": [
        {
          "output_type": "execute_result",
          "data": {
            "text/plain": [
              "157866"
            ]
          },
          "metadata": {
            "tags": []
          },
          "execution_count": 12
        }
      ]
    },
    {
      "metadata": {
        "id": "J7_JCHpBgGy_",
        "colab_type": "code",
        "colab": {}
      },
      "cell_type": "code",
      "source": [
        "criterion = nn.CrossEntropyLoss()\n",
        "optimizer = optim.Adam(params=model.parameters(), lr=1e-2)"
      ],
      "execution_count": 0,
      "outputs": []
    },
    {
      "metadata": {
        "id": "gAkeuAUwrVBU",
        "colab_type": "code",
        "colab": {}
      },
      "cell_type": "code",
      "source": [
        "train_on_gpu = True if torch.cuda.is_available() else False\n",
        "\n",
        "if train_on_gpu:\n",
        "  model = model.cuda()"
      ],
      "execution_count": 0,
      "outputs": []
    },
    {
      "metadata": {
        "id": "GnsBn51LiLUR",
        "colab_type": "code",
        "colab": {
          "base_uri": "https://localhost:8080/",
          "height": 1717
        },
        "outputId": "2d2f1a56-3bcb-48ac-f805-cba435b65793"
      },
      "cell_type": "code",
      "source": [
        "n_epochs = 100\n",
        "train_losses = []\n",
        "valid_losses = []\n",
        "train_accs = []\n",
        "valid_accs = []\n",
        "\n",
        "for epoch in range(n_epochs):\n",
        "  train_loss = 0.0\n",
        "  valid_loss = 0.0\n",
        "  train_acc = 0\n",
        "  valid_acc = 0\n",
        "  \n",
        "  model.train()\n",
        "  for data, target in train_loader:\n",
        "    if train_on_gpu:\n",
        "      data, target = data.cuda(), target.cuda()      \n",
        "    \n",
        "    optimizer.zero_grad()\n",
        "    preds = model(data)\n",
        "    loss = criterion(preds, target)\n",
        "    loss.backward()\n",
        "    optimizer.step()\n",
        "    \n",
        "    train_loss += loss.item() * data.size(0)\n",
        "    \n",
        "    _, preds = torch.max(preds.data, dim=1)\n",
        "    train_acc += (preds == target).sum().item()\n",
        "    \n",
        "  model.eval()\n",
        "  for data, target in valid_loader:\n",
        "    if train_on_gpu:\n",
        "      data, target = data.cuda(), target.cuda()\n",
        "      \n",
        "    preds = model(data)\n",
        "    loss = criterion(preds, target)\n",
        "    valid_loss += loss.item() * data.size(0)\n",
        "    _, preds = torch.max(preds, dim=1)\n",
        "    valid_acc += (preds == target).sum().item()\n",
        "  \n",
        "  train_loss /= len(train_idx)\n",
        "  valid_loss /= len(valid_idx)\n",
        "  train_acc /= len(train_idx)\n",
        "  valid_acc /= len(valid_idx)\n",
        "  \n",
        "  train_losses.append(train_loss)\n",
        "  valid_losses.append(valid_loss)  \n",
        "  train_accs.append(train_acc)\n",
        "  valid_accs.append(valid_acc)\n",
        "  \n",
        "  print(\"Epoch: {}/{}\\tLoss: {:.4f}\\tAccuracy: {:.4f}\\tVal_loss: {:.4f}\\tVal_acc: {:.4f}\".format(epoch+1, n_epochs,\n",
        "                                                                                                 train_loss, train_acc,\n",
        "                                                                                                 valid_loss, valid_acc))"
      ],
      "execution_count": 15,
      "outputs": [
        {
          "output_type": "stream",
          "text": [
            "Epoch: 1/100\tLoss: 2.0399\tAccuracy: 0.2067\tVal_loss: 2.1737\tVal_acc: 0.2179\n",
            "Epoch: 2/100\tLoss: 1.8752\tAccuracy: 0.2524\tVal_loss: 1.7972\tVal_acc: 0.2812\n",
            "Epoch: 3/100\tLoss: 1.7844\tAccuracy: 0.2959\tVal_loss: 1.8126\tVal_acc: 0.3210\n",
            "Epoch: 4/100\tLoss: 1.7191\tAccuracy: 0.3369\tVal_loss: 1.6189\tVal_acc: 0.3524\n",
            "Epoch: 5/100\tLoss: 1.6659\tAccuracy: 0.3599\tVal_loss: 1.5310\tVal_acc: 0.3999\n",
            "Epoch: 6/100\tLoss: 1.6028\tAccuracy: 0.3866\tVal_loss: 1.6003\tVal_acc: 0.4049\n",
            "Epoch: 7/100\tLoss: 1.5686\tAccuracy: 0.4058\tVal_loss: 1.6189\tVal_acc: 0.3937\n",
            "Epoch: 8/100\tLoss: 1.5308\tAccuracy: 0.4289\tVal_loss: 1.3985\tVal_acc: 0.4522\n",
            "Epoch: 9/100\tLoss: 1.4609\tAccuracy: 0.4526\tVal_loss: 1.3478\tVal_acc: 0.5092\n",
            "Epoch: 10/100\tLoss: 1.4540\tAccuracy: 0.4608\tVal_loss: 1.3971\tVal_acc: 0.4793\n",
            "Epoch: 11/100\tLoss: 1.4304\tAccuracy: 0.4742\tVal_loss: 1.2985\tVal_acc: 0.5213\n",
            "Epoch: 12/100\tLoss: 1.4013\tAccuracy: 0.4865\tVal_loss: 1.2810\tVal_acc: 0.5332\n",
            "Epoch: 13/100\tLoss: 1.3876\tAccuracy: 0.4882\tVal_loss: 1.2566\tVal_acc: 0.5477\n",
            "Epoch: 14/100\tLoss: 1.3423\tAccuracy: 0.5135\tVal_loss: 1.2797\tVal_acc: 0.5330\n",
            "Epoch: 15/100\tLoss: 1.3368\tAccuracy: 0.5263\tVal_loss: 1.2614\tVal_acc: 0.5481\n",
            "Epoch: 16/100\tLoss: 1.2882\tAccuracy: 0.5381\tVal_loss: 1.1612\tVal_acc: 0.5827\n",
            "Epoch: 17/100\tLoss: 1.2559\tAccuracy: 0.5545\tVal_loss: 1.1776\tVal_acc: 0.5880\n",
            "Epoch: 18/100\tLoss: 1.2541\tAccuracy: 0.5606\tVal_loss: 1.1644\tVal_acc: 0.5840\n",
            "Epoch: 19/100\tLoss: 1.2417\tAccuracy: 0.5688\tVal_loss: 1.2712\tVal_acc: 0.5547\n",
            "Epoch: 20/100\tLoss: 1.2031\tAccuracy: 0.5794\tVal_loss: 1.1275\tVal_acc: 0.5972\n",
            "Epoch: 21/100\tLoss: 1.2111\tAccuracy: 0.5813\tVal_loss: 1.1334\tVal_acc: 0.5994\n",
            "Epoch: 22/100\tLoss: 1.1792\tAccuracy: 0.5881\tVal_loss: 1.2269\tVal_acc: 0.5799\n",
            "Epoch: 23/100\tLoss: 1.1667\tAccuracy: 0.5881\tVal_loss: 1.0937\tVal_acc: 0.6128\n",
            "Epoch: 24/100\tLoss: 1.1199\tAccuracy: 0.6057\tVal_loss: 1.0391\tVal_acc: 0.6335\n",
            "Epoch: 25/100\tLoss: 1.1163\tAccuracy: 0.6182\tVal_loss: 1.2999\tVal_acc: 0.5758\n",
            "Epoch: 26/100\tLoss: 1.1213\tAccuracy: 0.6146\tVal_loss: 1.0257\tVal_acc: 0.6416\n",
            "Epoch: 27/100\tLoss: 1.0787\tAccuracy: 0.6269\tVal_loss: 1.1299\tVal_acc: 0.6131\n",
            "Epoch: 28/100\tLoss: 1.0944\tAccuracy: 0.6257\tVal_loss: 1.0290\tVal_acc: 0.6433\n",
            "Epoch: 29/100\tLoss: 1.0644\tAccuracy: 0.6358\tVal_loss: 1.0248\tVal_acc: 0.6458\n",
            "Epoch: 30/100\tLoss: 1.0311\tAccuracy: 0.6506\tVal_loss: 1.0219\tVal_acc: 0.6508\n",
            "Epoch: 31/100\tLoss: 1.0443\tAccuracy: 0.6491\tVal_loss: 1.0453\tVal_acc: 0.6434\n",
            "Epoch: 32/100\tLoss: 1.0303\tAccuracy: 0.6491\tVal_loss: 1.0852\tVal_acc: 0.6314\n",
            "Epoch: 33/100\tLoss: 1.0150\tAccuracy: 0.6527\tVal_loss: 1.0242\tVal_acc: 0.6453\n",
            "Epoch: 34/100\tLoss: 1.0135\tAccuracy: 0.6580\tVal_loss: 0.9620\tVal_acc: 0.6691\n",
            "Epoch: 35/100\tLoss: 1.0005\tAccuracy: 0.6577\tVal_loss: 0.9812\tVal_acc: 0.6624\n",
            "Epoch: 36/100\tLoss: 0.9888\tAccuracy: 0.6609\tVal_loss: 0.9943\tVal_acc: 0.6645\n",
            "Epoch: 37/100\tLoss: 0.9964\tAccuracy: 0.6637\tVal_loss: 0.9927\tVal_acc: 0.6609\n",
            "Epoch: 38/100\tLoss: 0.9832\tAccuracy: 0.6635\tVal_loss: 1.0350\tVal_acc: 0.6602\n",
            "Epoch: 39/100\tLoss: 0.9710\tAccuracy: 0.6692\tVal_loss: 0.9982\tVal_acc: 0.6574\n",
            "Epoch: 40/100\tLoss: 0.9774\tAccuracy: 0.6661\tVal_loss: 1.0284\tVal_acc: 0.6524\n",
            "Epoch: 41/100\tLoss: 0.9616\tAccuracy: 0.6752\tVal_loss: 1.0148\tVal_acc: 0.6537\n",
            "Epoch: 42/100\tLoss: 0.9422\tAccuracy: 0.6779\tVal_loss: 1.0063\tVal_acc: 0.6574\n",
            "Epoch: 43/100\tLoss: 0.9202\tAccuracy: 0.6855\tVal_loss: 0.9621\tVal_acc: 0.6733\n",
            "Epoch: 44/100\tLoss: 0.9082\tAccuracy: 0.6910\tVal_loss: 0.9984\tVal_acc: 0.6608\n",
            "Epoch: 45/100\tLoss: 0.9159\tAccuracy: 0.6929\tVal_loss: 0.9461\tVal_acc: 0.6821\n",
            "Epoch: 46/100\tLoss: 0.9176\tAccuracy: 0.6914\tVal_loss: 0.9856\tVal_acc: 0.6709\n",
            "Epoch: 47/100\tLoss: 0.8927\tAccuracy: 0.6980\tVal_loss: 0.9412\tVal_acc: 0.6866\n",
            "Epoch: 48/100\tLoss: 0.8955\tAccuracy: 0.7010\tVal_loss: 1.0394\tVal_acc: 0.6649\n",
            "Epoch: 49/100\tLoss: 0.9052\tAccuracy: 0.6949\tVal_loss: 0.9763\tVal_acc: 0.6731\n",
            "Epoch: 50/100\tLoss: 0.8848\tAccuracy: 0.7071\tVal_loss: 0.9569\tVal_acc: 0.6877\n",
            "Epoch: 51/100\tLoss: 0.8824\tAccuracy: 0.7029\tVal_loss: 0.9248\tVal_acc: 0.6929\n",
            "Epoch: 52/100\tLoss: 0.8896\tAccuracy: 0.7043\tVal_loss: 0.9653\tVal_acc: 0.6784\n",
            "Epoch: 53/100\tLoss: 0.8671\tAccuracy: 0.7138\tVal_loss: 0.9618\tVal_acc: 0.6804\n",
            "Epoch: 54/100\tLoss: 0.8779\tAccuracy: 0.7078\tVal_loss: 0.9338\tVal_acc: 0.6876\n",
            "Epoch: 55/100\tLoss: 0.8458\tAccuracy: 0.7144\tVal_loss: 0.9161\tVal_acc: 0.6970\n",
            "Epoch: 56/100\tLoss: 0.8591\tAccuracy: 0.7127\tVal_loss: 0.9352\tVal_acc: 0.6885\n",
            "Epoch: 57/100\tLoss: 0.8324\tAccuracy: 0.7201\tVal_loss: 0.9643\tVal_acc: 0.6775\n",
            "Epoch: 58/100\tLoss: 0.8395\tAccuracy: 0.7220\tVal_loss: 0.9645\tVal_acc: 0.6914\n",
            "Epoch: 59/100\tLoss: 0.8226\tAccuracy: 0.7189\tVal_loss: 0.9181\tVal_acc: 0.6942\n",
            "Epoch: 60/100\tLoss: 0.8482\tAccuracy: 0.7160\tVal_loss: 0.9455\tVal_acc: 0.6864\n",
            "Epoch: 61/100\tLoss: 0.8271\tAccuracy: 0.7182\tVal_loss: 1.1490\tVal_acc: 0.6590\n",
            "Epoch: 62/100\tLoss: 0.8053\tAccuracy: 0.7258\tVal_loss: 0.9017\tVal_acc: 0.7009\n",
            "Epoch: 63/100\tLoss: 0.8109\tAccuracy: 0.7265\tVal_loss: 0.9586\tVal_acc: 0.6890\n",
            "Epoch: 64/100\tLoss: 0.8136\tAccuracy: 0.7318\tVal_loss: 0.9276\tVal_acc: 0.6967\n",
            "Epoch: 65/100\tLoss: 0.7976\tAccuracy: 0.7373\tVal_loss: 0.8887\tVal_acc: 0.7062\n",
            "Epoch: 66/100\tLoss: 0.8135\tAccuracy: 0.7261\tVal_loss: 0.8831\tVal_acc: 0.7065\n",
            "Epoch: 67/100\tLoss: 0.8051\tAccuracy: 0.7330\tVal_loss: 0.9145\tVal_acc: 0.6983\n",
            "Epoch: 68/100\tLoss: 0.8049\tAccuracy: 0.7276\tVal_loss: 0.8967\tVal_acc: 0.6968\n",
            "Epoch: 69/100\tLoss: 0.7942\tAccuracy: 0.7353\tVal_loss: 0.9109\tVal_acc: 0.6989\n",
            "Epoch: 70/100\tLoss: 0.7862\tAccuracy: 0.7371\tVal_loss: 0.9212\tVal_acc: 0.7043\n",
            "Epoch: 71/100\tLoss: 0.7726\tAccuracy: 0.7420\tVal_loss: 0.8913\tVal_acc: 0.7080\n",
            "Epoch: 72/100\tLoss: 0.8012\tAccuracy: 0.7333\tVal_loss: 0.9046\tVal_acc: 0.7011\n",
            "Epoch: 73/100\tLoss: 0.7858\tAccuracy: 0.7400\tVal_loss: 1.0192\tVal_acc: 0.6801\n",
            "Epoch: 74/100\tLoss: 0.7643\tAccuracy: 0.7491\tVal_loss: 0.8643\tVal_acc: 0.7176\n",
            "Epoch: 75/100\tLoss: 0.7669\tAccuracy: 0.7475\tVal_loss: 0.8783\tVal_acc: 0.7079\n",
            "Epoch: 76/100\tLoss: 0.7594\tAccuracy: 0.7473\tVal_loss: 0.9262\tVal_acc: 0.7038\n",
            "Epoch: 77/100\tLoss: 0.7703\tAccuracy: 0.7464\tVal_loss: 0.8915\tVal_acc: 0.7093\n",
            "Epoch: 78/100\tLoss: 0.7339\tAccuracy: 0.7581\tVal_loss: 0.8972\tVal_acc: 0.7164\n",
            "Epoch: 79/100\tLoss: 0.7656\tAccuracy: 0.7505\tVal_loss: 0.8851\tVal_acc: 0.7132\n",
            "Epoch: 80/100\tLoss: 0.7406\tAccuracy: 0.7532\tVal_loss: 0.8954\tVal_acc: 0.7124\n",
            "Epoch: 81/100\tLoss: 0.7650\tAccuracy: 0.7459\tVal_loss: 0.8791\tVal_acc: 0.7141\n",
            "Epoch: 82/100\tLoss: 0.7368\tAccuracy: 0.7563\tVal_loss: 0.9612\tVal_acc: 0.6968\n",
            "Epoch: 83/100\tLoss: 0.7326\tAccuracy: 0.7599\tVal_loss: 1.0945\tVal_acc: 0.6725\n",
            "Epoch: 84/100\tLoss: 0.7566\tAccuracy: 0.7499\tVal_loss: 0.9280\tVal_acc: 0.7098\n",
            "Epoch: 85/100\tLoss: 0.7290\tAccuracy: 0.7579\tVal_loss: 0.8982\tVal_acc: 0.7075\n",
            "Epoch: 86/100\tLoss: 0.7324\tAccuracy: 0.7610\tVal_loss: 0.9102\tVal_acc: 0.7121\n",
            "Epoch: 87/100\tLoss: 0.7176\tAccuracy: 0.7592\tVal_loss: 0.9397\tVal_acc: 0.7056\n",
            "Epoch: 88/100\tLoss: 0.7346\tAccuracy: 0.7533\tVal_loss: 0.9181\tVal_acc: 0.7133\n",
            "Epoch: 89/100\tLoss: 0.7265\tAccuracy: 0.7603\tVal_loss: 0.9483\tVal_acc: 0.7053\n",
            "Epoch: 90/100\tLoss: 0.7157\tAccuracy: 0.7659\tVal_loss: 0.8884\tVal_acc: 0.7179\n",
            "Epoch: 91/100\tLoss: 0.7316\tAccuracy: 0.7610\tVal_loss: 0.8920\tVal_acc: 0.7150\n",
            "Epoch: 92/100\tLoss: 0.7027\tAccuracy: 0.7664\tVal_loss: 1.0607\tVal_acc: 0.6873\n",
            "Epoch: 93/100\tLoss: 0.7092\tAccuracy: 0.7702\tVal_loss: 0.9263\tVal_acc: 0.7117\n",
            "Epoch: 94/100\tLoss: 0.7120\tAccuracy: 0.7693\tVal_loss: 0.9253\tVal_acc: 0.7078\n",
            "Epoch: 95/100\tLoss: 0.6966\tAccuracy: 0.7718\tVal_loss: 0.9000\tVal_acc: 0.7160\n",
            "Epoch: 96/100\tLoss: 0.7006\tAccuracy: 0.7704\tVal_loss: 0.8705\tVal_acc: 0.7200\n",
            "Epoch: 97/100\tLoss: 0.6701\tAccuracy: 0.7867\tVal_loss: 0.9216\tVal_acc: 0.7137\n",
            "Epoch: 98/100\tLoss: 0.6981\tAccuracy: 0.7699\tVal_loss: 0.9606\tVal_acc: 0.7081\n",
            "Epoch: 99/100\tLoss: 0.6743\tAccuracy: 0.7799\tVal_loss: 0.8897\tVal_acc: 0.7274\n",
            "Epoch: 100/100\tLoss: 0.6927\tAccuracy: 0.7789\tVal_loss: 0.8909\tVal_acc: 0.7212\n"
          ],
          "name": "stdout"
        }
      ]
    },
    {
      "metadata": {
        "id": "ZSiNTPG39xCt",
        "colab_type": "code",
        "colab": {
          "base_uri": "https://localhost:8080/",
          "height": 388
        },
        "outputId": "a6407218-12b4-4c17-cf0d-2df084907e92"
      },
      "cell_type": "code",
      "source": [
        "fig = plt.figure(figsize=(14, 6))\n",
        "\n",
        "ax = fig.add_subplot(1, 2, 1)\n",
        "ax.plot(np.arange(n_epochs), train_losses, label=\"Train\")\n",
        "ax.plot(np.arange(n_epochs), valid_losses, label=\"Valid\")\n",
        "ax.set_xlabel(\"#of epochs\")\n",
        "ax.set_ylabel(\"Loss\")\n",
        "ax.legend();\n",
        "\n",
        "ax = fig.add_subplot(1, 2, 2)\n",
        "ax.plot(np.arange(n_epochs), train_accs, label=\"Train\")\n",
        "ax.plot(np.arange(n_epochs), valid_accs, label=\"Valid\")\n",
        "ax.set_xlabel(\"#of epochs\")\n",
        "ax.set_ylabel(\"Accuracy\")\n",
        "ax.legend();"
      ],
      "execution_count": 16,
      "outputs": [
        {
          "output_type": "display_data",
          "data": {
            "image/png": "[encoded data removed]",
            "text/plain": [
              "<matplotlib.figure.Figure at 0x7fb950554400>"
            ]
          },
          "metadata": {
            "tags": []
          }
        }
      ]
    },
    {
      "metadata": {
        "id": "E4q04qMZCmNQ",
        "colab_type": "code",
        "colab": {
          "base_uri": "https://localhost:8080/",
          "height": 34
        },
        "outputId": "41d2f4e0-6809-4b02-af67-3fd2ef26fe32"
      },
      "cell_type": "code",
      "source": [
        "test_loss = 0.0\n",
        "test_acc = 0\n",
        "\n",
        "with torch.no_grad():\n",
        "  model.eval()\n",
        "  \n",
        "  for data, target in test_loader:\n",
        "    if train_on_gpu:\n",
        "      data, target = data.cuda(), target.cuda()\n",
        "    \n",
        "    preds = model(data)\n",
        "    loss = criterion(preds, target)\n",
        "    test_loss += loss.item() * data.size(0)\n",
        "    \n",
        "    _, preds = torch.max(preds, 1)\n",
        "    test_acc += (preds == target).sum().item()\n",
        "\n",
        "  test_loss /= len(test_loader.dataset)\n",
        "  test_acc /= len(test_loader.dataset)\n",
        "  print(\"Test Loss: {}\\tTest Acc: {}\".format(test_loss, test_acc))"
      ],
      "execution_count": 17,
      "outputs": [
        {
          "output_type": "stream",
          "text": [
            "Test Loss: 0.9082648855209351\tTest Acc: 0.7266\n"
          ],
          "name": "stdout"
        }
      ]
    },
    {
      "metadata": {
        "id": "QqdHG2AHHrCZ",
        "colab_type": "code",
        "colab": {}
      },
      "cell_type": "code",
      "source": [
        ""
      ],
      "execution_count": 0,
      "outputs": []
    }
  ]
}
